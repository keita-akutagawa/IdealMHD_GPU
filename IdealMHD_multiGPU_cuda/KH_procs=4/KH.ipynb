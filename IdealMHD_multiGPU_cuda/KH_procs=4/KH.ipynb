{
 "cells": [
  {
   "cell_type": "code",
   "execution_count": 2,
   "metadata": {},
   "outputs": [],
   "source": [
    "import numpy as np\n",
    "import matplotlib.pyplot as plt\n",
    "import cv2"
   ]
  },
  {
   "cell_type": "code",
   "execution_count": 4,
   "metadata": {},
   "outputs": [],
   "source": [
    "filename = \"KH_rho.mp4\"\n",
    "img = cv2.imread(f'./pictures/0.png')\n",
    "framesize = (img.shape[1], img.shape[0])\n",
    "fps = 30.0\n",
    "fourcc = cv2.VideoWriter_fourcc('m','p','4','v')\n",
    "video  = cv2.VideoWriter(filename=filename, fourcc=fourcc, fps=fps, frameSize=framesize)\n",
    "\n",
    "for step in range(0, 50000 + 1, 100):\n",
    "    img = cv2.imread(f'./pictures/{step}.png')\n",
    "    video.write(img)\n",
    "video.release()"
   ]
  },
  {
   "cell_type": "code",
   "execution_count": null,
   "metadata": {},
   "outputs": [],
   "source": []
  }
 ],
 "metadata": {
  "kernelspec": {
   "display_name": "base",
   "language": "python",
   "name": "python3"
  },
  "language_info": {
   "codemirror_mode": {
    "name": "ipython",
    "version": 3
   },
   "file_extension": ".py",
   "mimetype": "text/x-python",
   "name": "python",
   "nbconvert_exporter": "python",
   "pygments_lexer": "ipython3",
   "version": "3.11.5"
  }
 },
 "nbformat": 4,
 "nbformat_minor": 2
}
